{
  "metadata": {
    "language_info": {
      "codemirror_mode": {
        "name": "python",
        "version": 3
      },
      "file_extension": ".py",
      "mimetype": "text/x-python",
      "name": "python",
      "nbconvert_exporter": "python",
      "pygments_lexer": "ipython3",
      "version": "3.8"
    },
    "kernelspec": {
      "name": "python",
      "display_name": "Python (Pyodide)",
      "language": "python"
    }
  },
  "nbformat_minor": 4,
  "nbformat": 4,
  "cells": [
    {
      "cell_type": "code",
      "source": "from uncertainties import ufloat\nfrom uncertainties.umath import *  # sin(), etc.",
      "metadata": {
        "trusted": true
      },
      "execution_count": 1,
      "outputs": []
    },
    {
      "cell_type": "code",
      "source": "# Absolute values\nav_c2 = 423\nav_m2 = 0.027\nav_dTdt2 = 0.83\n\nav_m1 = 0.0282\nav_dTdt1 = 0.71\n\nabs_value = av_c2*av_m2*av_dTdt2/(av_m1*av_dTdt1)\nabs_value",
      "metadata": {
        "trusted": true
      },
      "execution_count": 2,
      "outputs": [
        {
          "execution_count": 2,
          "output_type": "execute_result",
          "data": {
            "text/plain": "473.4507042253521"
          },
          "metadata": {}
        }
      ]
    },
    {
      "cell_type": "code",
      "source": "c2 = ufloat(av_c2, 0.5)\nm2 = ufloat(av_m2, 0.00005)\ndTdt2 = ufloat(av_dTdt2, 0.05)\n\nm1 = ufloat(av_m1, 0.00005)\ndTdt1 = ufloat(av_dTdt1, 0.05)",
      "metadata": {
        "trusted": true
      },
      "execution_count": 3,
      "outputs": []
    },
    {
      "cell_type": "code",
      "source": "c2*m2*dTdt2/(m1*dTdt1)",
      "metadata": {
        "trusted": true
      },
      "execution_count": 4,
      "outputs": [
        {
          "execution_count": 4,
          "output_type": "execute_result",
          "data": {
            "text/plain": "473.4507042253521+/-43.89650859599353"
          },
          "metadata": {}
        }
      ]
    },
    {
      "cell_type": "code",
      "source": "44/473",
      "metadata": {
        "trusted": true
      },
      "execution_count": 5,
      "outputs": [
        {
          "execution_count": 5,
          "output_type": "execute_result",
          "data": {
            "text/plain": "0.09302325581395349"
          },
          "metadata": {}
        }
      ]
    }
  ]
}